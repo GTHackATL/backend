{
 "cells": [
  {
   "cell_type": "code",
   "execution_count": 13,
   "metadata": {
    "collapsed": false
   },
   "outputs": [],
   "source": [
    "from itertools import permutations\n",
    "import pprint\n",
    "from geopy.distance import vincenty\n",
    "from random import randint\n",
    "from copy import deepcopy\n",
    "from datetime import date, timedelta\n",
    "\n",
    "pp = pprint.PrettyPrinter(indent=4)\n",
    "\n",
    "dataset = {\n",
    "    \"cities\": {\n",
    "        \"ATL\": {\n",
    "            \"name\": \"Atlanta\",\n",
    "            \"location\": (33.7550, 84.3900)\n",
    "        },\n",
    "        \"BOS\": {\n",
    "            \"name\": \"Boston\",\n",
    "            \"location\": (42.3601, 71.0589)\n",
    "        },\n",
    "        \"CHI\": {\n",
    "            \"name\": \"Chicago\",\n",
    "            \"location\": (41.8369, 87.6847)\n",
    "        },\n",
    "        \"PIT\": {\n",
    "            \"name\": \"Pittsburgh\",\n",
    "            \"location\": (40.4397, 79.9764)\n",
    "        }\n",
    "    },\n",
    "    \"flights\":[]\n",
    "}\n",
    "\n",
    "cities = dataset[\"cities\"]\n",
    "flights = dataset[\"flights\"]\n",
    "\n",
    "base_date = date.today()\n",
    "\n",
    "def get_price(distance):\n",
    "    base_price = int(distance.miles / 5)\n",
    "    float_price = int(base_price / 3)\n",
    "    return base_price + randint(-float_price, float_price)\n",
    "\n",
    "# Generte random flight data with price based on location and random\n",
    "for begin, end in permutations(cities, 2):\n",
    "    for day in range(20):\n",
    "        cur = {\"origin\": begin, \"destination\": end}\n",
    "        cur[\"distance\"] = vincenty(cities[begin][\"location\"], cities[end][\"location\"])\n",
    "        cur[\"date\"] = base_date + timedelta(days=day)\n",
    "        cur[\"price\"] = get_price(cur[\"distance\"])\n",
    "        flights.append(cur)\n",
    "\n",
    "\n",
    "def get_flight(origin, destination, days):\n",
    "    desired_date = base_date + timedelta(days=days)\n",
    "    for flight in flights:\n",
    "        if flight[\"origin\"] == origin and flight[\"destination\"] == destination and flight[\"date\"] == desired_date:\n",
    "            return flight"
   ]
  },
  {
   "cell_type": "code",
   "execution_count": 14,
   "metadata": {
    "collapsed": false
   },
   "outputs": [],
   "source": [
    "min_price = 2 ** 30\n",
    "final_sequence = []\n",
    "\n",
    "min_day = 2\n",
    "max_total_day = 18\n",
    "# (current_city, current_day, current_price)\n",
    "initial_state = (\"ATL\", 0, 0)\n",
    "city_sequence = [(\"ATL\", 0, 0)]\n",
    "visited = {city: False for city in dataset[\"cities\"]}\n",
    "visited[\"ATL\"] = True\n",
    "def search(state):\n",
    "    global min_price, final_sequence\n",
    "    current_city, current_day, current_price = state\n",
    "    unvisited = [city for city in visited if visited[city] == False]\n",
    "    \n",
    "    if not unvisited: # no city left\n",
    "        for days in range(current_day + min_day, max_total_day):\n",
    "            flight = get_flight(current_city, \"ATL\", days)\n",
    "            final_price = current_price + flight[\"price\"]\n",
    "            city_sequence.append((\"ATL\", days, final_price))\n",
    "            if final_price < min_price:\n",
    "                min_price = final_price\n",
    "                final_sequence = deepcopy(city_sequence)\n",
    "            city_sequence.pop()\n",
    "            \n",
    "    for city in unvisited:\n",
    "        for days in range(current_day + min_day, max_total_day):\n",
    "            flight = get_flight(current_city, city, days)\n",
    "            next_state = (city, days, current_price + flight[\"price\"])\n",
    "            city_sequence.append(next_state)\n",
    "            visited[city] = True\n",
    "            search(next_state)\n",
    "            visited[city] = False\n",
    "            city_sequence.pop()\n",
    "\n",
    "search(initial_state)"
   ]
  },
  {
   "cell_type": "code",
   "execution_count": 15,
   "metadata": {
    "collapsed": false
   },
   "outputs": [
    {
     "name": "stdout",
     "output_type": "stream",
     "text": [
      "Generated Sequence:\n",
      "Step 0: At ATL, Day 00, Total Price $000\n",
      "Step 1: At BOS, Day 05, Total Price $126\n",
      "Step 2: At PIT, Day 10, Total Price $191\n",
      "Step 3: At CHI, Day 12, Total Price $267\n",
      "Step 4: At ATL, Day 17, Total Price $345\n"
     ]
    }
   ],
   "source": [
    "print(\"Generated Sequence:\")\n",
    "for index, step in enumerate(final_sequence):\n",
    "    print(\"Step %d: At %s, Day %02d, Total Price $%03d\" % (index, step[0], step[1], step[2]))"
   ]
  }
 ],
 "metadata": {
  "kernelspec": {
   "display_name": "Python 3",
   "language": "python",
   "name": "python3"
  },
  "language_info": {
   "codemirror_mode": {
    "name": "ipython",
    "version": 3
   },
   "file_extension": ".py",
   "mimetype": "text/x-python",
   "name": "python",
   "nbconvert_exporter": "python",
   "pygments_lexer": "ipython3",
   "version": "3.4.3"
  }
 },
 "nbformat": 4,
 "nbformat_minor": 0
}
